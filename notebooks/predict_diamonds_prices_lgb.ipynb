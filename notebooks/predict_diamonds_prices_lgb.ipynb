{
 "cells": [
  {
   "cell_type": "markdown",
   "metadata": {},
   "source": [
    "# **import libraries**"
   ]
  },
  {
   "cell_type": "code",
   "execution_count": null,
   "metadata": {
    "id": "6O8SGqt25Ma_"
   },
   "outputs": [],
   "source": [
    "from sklearn.pipeline import Pipeline\n",
    "from sklearn.compose import ColumnTransformer\n",
    "from sklearn.impute import SimpleImputer\n",
    "from sklearn.preprocessing import StandardScaler\n",
    "from sklearn.preprocessing import OneHotEncoder, OrdinalEncoder\n",
    "import numpy as np # linear algebra\n",
    "import pandas as pd\n",
    "from sklearn.preprocessing import StandardScaler\n",
    "from sklearn.preprocessing import OneHotEncoder, OrdinalEncoder\n",
    "from sklearn import datasets, linear_model\n",
    "from sklearn.metrics import mean_squared_error\n",
    "from sklearn.ensemble import RandomForestRegressor\n",
    "from lightgbm import LGBMRegressor\n",
    "from sklearn import preprocessing"
   ]
  },
  {
   "cell_type": "markdown",
   "metadata": {},
   "source": [
    "# **1. data loading**"
   ]
  },
  {
   "cell_type": "code",
   "execution_count": null,
   "metadata": {
    "id": "oazkgG8f5uY4"
   },
   "outputs": [],
   "source": [
    "train = pd.read_csv('../predict_diamonds/diamonds_train.csv')"
   ]
  },
  {
   "cell_type": "code",
   "execution_count": null,
   "metadata": {
    "id": "GrjavgKY57KT"
   },
   "outputs": [],
   "source": [
    "predict = pd.read_csv('../predict_diamonds/diamonds_test.csv')"
   ]
  },
  {
   "cell_type": "markdown",
   "metadata": {},
   "source": [
    "# **2. modeling**"
   ]
  },
  {
   "cell_type": "code",
   "execution_count": null,
   "metadata": {
    "id": "5mwX2oxu6n3j"
   },
   "outputs": [],
   "source": [
    "TARGET = 'price'\n",
    "\n",
    "CAT_FEATURES = ['cut', 'color', 'clarity']\n",
    "NUM_FEATURES = ['carat', 'depth', 'table', 'x', 'y', 'z']\n",
    "\n",
    "for categorical_feature in CAT_FEATURES:\n",
    "    \n",
    "    train[categorical_feature] = train[categorical_feature].astype('category') \n",
    "    predict[categorical_feature] = predict[categorical_feature].astype('category')"
   ]
  },
  {
   "cell_type": "code",
   "execution_count": null,
   "metadata": {
    "id": "daYspKmk6taN"
   },
   "outputs": [],
   "source": [
    "FEATS = NUM_FEATURES + CAT_FEATURES"
   ]
  },
  {
   "cell_type": "code",
   "execution_count": null,
   "metadata": {
    "id": "DnJH441a7VWh"
   },
   "outputs": [],
   "source": [
    "numeric_transformer = \\\n",
    "Pipeline(steps=[('imputer', SimpleImputer(strategy='mean')), \n",
    "                ('scaler', StandardScaler())])"
   ]
  },
  {
   "cell_type": "code",
   "execution_count": null,
   "metadata": {
    "id": "CCPleX887eXS"
   },
   "outputs": [],
   "source": [
    "categorical_transformer = \\\n",
    "Pipeline(steps=[('imputer', SimpleImputer(strategy='constant', fill_value='missing')),\n",
    "                ('encoder', OneHotEncoder(handle_unknown='ignore'))])"
   ]
  },
  {
   "cell_type": "code",
   "execution_count": null,
   "metadata": {
    "id": "732itaNK7zEo"
   },
   "outputs": [],
   "source": [
    "preprocessor = \\\n",
    "ColumnTransformer(transformers=[('num', numeric_transformer, NUM_FEATURES),\n",
    "                                ('cat', categorical_transformer, CAT_FEATURES)])"
   ]
  },
  {
   "cell_type": "code",
   "execution_count": null,
   "metadata": {
    "id": "ejyQOV0371oF"
   },
   "outputs": [],
   "source": [
    "from sklearn.linear_model import LinearRegression\n",
    "from sklearn.ensemble import RandomForestRegressor"
   ]
  },
  {
   "cell_type": "code",
   "execution_count": null,
   "metadata": {
    "id": "XM8Ix9kG8thw"
   },
   "outputs": [],
   "source": [
    "model= Pipeline(steps=[('preprocessor', preprocessor),\n",
    "                       ('regressor', LGBMRegressor(boosting_type='gbdt', \n",
    "                                                   max_depth = 8, \n",
    "                                                   objective='regression',\n",
    "                                                   max_bin=200,\n",
    "                                                   feature_fraction_seed=7,\n",
    "                                                   min_data_in_leaf=2,\n",
    "                                                   n_estimators = 256))])"
   ]
  },
  {
   "cell_type": "code",
   "execution_count": null,
   "metadata": {
    "id": "duZf7fzq_NbI"
   },
   "outputs": [],
   "source": [
    "model.fit(train[FEATS], train[TARGET]);"
   ]
  },
  {
   "cell_type": "code",
   "execution_count": null,
   "metadata": {
    "id": "JKq5M64P_Uiz"
   },
   "outputs": [],
   "source": [
    "from sklearn.model_selection import cross_val_score"
   ]
  },
  {
   "cell_type": "code",
   "execution_count": null,
   "metadata": {
    "id": "weAodlAT_WX3"
   },
   "outputs": [],
   "source": [
    "scores = cross_val_score(model, \n",
    "                         train[FEATS], \n",
    "                         train[TARGET], \n",
    "                         scoring='neg_root_mean_squared_error', \n",
    "                         cv=5, \n",
    "                         n_jobs=-1)"
   ]
  },
  {
   "cell_type": "code",
   "execution_count": null,
   "metadata": {
    "colab": {
     "base_uri": "https://localhost:8080/"
    },
    "id": "MKzRNO7o_ZsZ",
    "outputId": "25b4d6fd-7685-41a5-f763-6782352b3180"
   },
   "outputs": [
    {
     "data": {
      "text/plain": [
       "537.3926795119871"
      ]
     },
     "execution_count": 264,
     "metadata": {
      "tags": []
     },
     "output_type": "execute_result"
    }
   ],
   "source": [
    "import numpy as np\n",
    "np.mean(-scores)"
   ]
  },
  {
   "cell_type": "code",
   "execution_count": null,
   "metadata": {
    "id": "bjW7FkuV_dkx"
   },
   "outputs": [],
   "source": [
    "from sklearn.model_selection import RandomizedSearchCV"
   ]
  },
  {
   "cell_type": "code",
   "execution_count": null,
   "metadata": {
    "colab": {
     "base_uri": "https://localhost:8080/"
    },
    "id": "_pfR2Q_cGXOF",
    "outputId": "8e901ce0-8b4e-41be-aaf5-1f59796efe86"
   },
   "outputs": [
    {
     "name": "stdout",
     "output_type": "stream",
     "text": [
      "Fitting 5 folds for each of 32 candidates, totalling 160 fits\n"
     ]
    },
    {
     "name": "stderr",
     "output_type": "stream",
     "text": [
      "[Parallel(n_jobs=-1)]: Using backend LokyBackend with 2 concurrent workers.\n",
      "[Parallel(n_jobs=-1)]: Done   1 tasks      | elapsed:    0.8s\n",
      "[Parallel(n_jobs=-1)]: Done   4 tasks      | elapsed:    1.6s\n",
      "[Parallel(n_jobs=-1)]: Done   9 tasks      | elapsed:    2.5s\n",
      "[Parallel(n_jobs=-1)]: Done  14 tasks      | elapsed:    3.6s\n",
      "[Parallel(n_jobs=-1)]: Done  21 tasks      | elapsed:    7.1s\n",
      "[Parallel(n_jobs=-1)]: Done  28 tasks      | elapsed:    9.6s\n",
      "[Parallel(n_jobs=-1)]: Done  37 tasks      | elapsed:   13.4s\n",
      "[Parallel(n_jobs=-1)]: Done  46 tasks      | elapsed:   17.8s\n",
      "[Parallel(n_jobs=-1)]: Done  57 tasks      | elapsed:   22.2s\n",
      "[Parallel(n_jobs=-1)]: Done  68 tasks      | elapsed:   24.8s\n",
      "[Parallel(n_jobs=-1)]: Done  81 tasks      | elapsed:   29.0s\n",
      "[Parallel(n_jobs=-1)]: Done  94 tasks      | elapsed:   36.5s\n",
      "[Parallel(n_jobs=-1)]: Done 109 tasks      | elapsed:   39.9s\n",
      "[Parallel(n_jobs=-1)]: Done 124 tasks      | elapsed:   42.6s\n",
      "[Parallel(n_jobs=-1)]: Done 141 tasks      | elapsed:   48.3s\n",
      "[Parallel(n_jobs=-1)]: Done 160 out of 160 | elapsed:   51.9s finished\n"
     ]
    },
    {
     "data": {
      "text/plain": [
       "RandomizedSearchCV(cv=5, error_score=nan,\n",
       "                   estimator=Pipeline(memory=None,\n",
       "                                      steps=[('preprocessor',\n",
       "                                              ColumnTransformer(n_jobs=None,\n",
       "                                                                remainder='drop',\n",
       "                                                                sparse_threshold=0.3,\n",
       "                                                                transformer_weights=None,\n",
       "                                                                transformers=[('num',\n",
       "                                                                               Pipeline(memory=None,\n",
       "                                                                                        steps=[('imputer',\n",
       "                                                                                                SimpleImputer(add_indicator=False,\n",
       "                                                                                                              copy=True,\n",
       "                                                                                                              fill_value=None,\n",
       "                                                                                                              missing_values=nan,\n",
       "                                                                                                              strategy='mean',\n",
       "                                                                                                              verbose=...\n",
       "                                                            subsample_freq=0))],\n",
       "                                      verbose=False),\n",
       "                   iid='deprecated', n_iter=32, n_jobs=-1,\n",
       "                   param_distributions={'preprocessor__num__imputer__strategy': ['mean',\n",
       "                                                                                 'median'],\n",
       "                                        'regressor__max_depth': [2, 4, 8, 16],\n",
       "                                        'regressor__n_estimators': [8, 16, 32,\n",
       "                                                                    64, 128,\n",
       "                                                                    256, 512]},\n",
       "                   pre_dispatch='2*n_jobs', random_state=None, refit=True,\n",
       "                   return_train_score=False,\n",
       "                   scoring='neg_root_mean_squared_error', verbose=10)"
      ]
     },
     "execution_count": 266,
     "metadata": {
      "tags": []
     },
     "output_type": "execute_result"
    }
   ],
   "source": [
    "param_grid = {\n",
    "    'preprocessor__num__imputer__strategy': ['mean', 'median'],\n",
    "    'regressor__n_estimators': [8, 16, 32, 64, 128, 256, 512],\n",
    "    'regressor__max_depth': [2, 4, 8, 16],\n",
    "}\n",
    "\n",
    "grid_search = RandomizedSearchCV(model, \n",
    "                                 param_grid, \n",
    "                                 cv=5, \n",
    "                                 verbose=10, \n",
    "                                 scoring='neg_root_mean_squared_error', \n",
    "                                 n_jobs=-1,\n",
    "                                 n_iter=32)\n",
    "\n",
    "grid_search.fit(train[FEATS], train[TARGET])"
   ]
  },
  {
   "cell_type": "code",
   "execution_count": null,
   "metadata": {
    "colab": {
     "base_uri": "https://localhost:8080/"
    },
    "id": "-NEQjARTG199",
    "outputId": "c53dad18-9389-4649-e490-bcd761a89dc9"
   },
   "outputs": [
    {
     "data": {
      "text/plain": [
       "{'preprocessor__num__imputer__strategy': 'median',\n",
       " 'regressor__max_depth': 16,\n",
       " 'regressor__n_estimators': 512}"
      ]
     },
     "execution_count": 267,
     "metadata": {
      "tags": []
     },
     "output_type": "execute_result"
    }
   ],
   "source": [
    "grid_search.best_params_"
   ]
  },
  {
   "cell_type": "code",
   "execution_count": null,
   "metadata": {
    "colab": {
     "base_uri": "https://localhost:8080/"
    },
    "id": "86bFIGdhHUAo",
    "outputId": "95b93fc1-60d5-46ff-c58b-2aed60ce9ea4"
   },
   "outputs": [
    {
     "data": {
      "text/plain": [
       "-535.9946274825448"
      ]
     },
     "execution_count": 268,
     "metadata": {
      "tags": []
     },
     "output_type": "execute_result"
    }
   ],
   "source": [
    "grid_search.best_score_"
   ]
  },
  {
   "cell_type": "code",
   "execution_count": null,
   "metadata": {
    "id": "gvA0ma37IOql"
   },
   "outputs": [],
   "source": [
    "y_pred = grid_search.predict(predict[FEATS])"
   ]
  },
  {
   "cell_type": "code",
   "execution_count": null,
   "metadata": {
    "id": "P3ilAbxqIR03"
   },
   "outputs": [],
   "source": [
    "predictions = model.predict(predict[FEATS])"
   ]
  },
  {
   "cell_type": "markdown",
   "metadata": {},
   "source": [
    "# **3. submission**"
   ]
  },
  {
   "cell_type": "code",
   "execution_count": null,
   "metadata": {
    "id": "RTU0XVrBITtd"
   },
   "outputs": [],
   "source": [
    "submission_df = pd.DataFrame({'id': predict['id'], 'price': y_pred})"
   ]
  },
  {
   "cell_type": "code",
   "execution_count": null,
   "metadata": {
    "id": "n-xLbWCrIVfm"
   },
   "outputs": [],
   "source": [
    "submission_df.to_csv('../predict_diamonds/diamonds_lgb.csv', index=False)"
   ]
  },
  {
   "cell_type": "code",
   "execution_count": null,
   "metadata": {
    "id": "dVnbeXZjIZBQ"
   },
   "outputs": [],
   "source": []
  }
 ],
 "metadata": {
  "colab": {
   "name": "Copy of predict_diamonds_prices_lgb.ipynb",
   "provenance": [],
   "toc_visible": true
  },
  "kernelspec": {
   "display_name": "Python [conda env:ironhack_env]",
   "language": "python",
   "name": "conda-env-ironhack_env-py"
  },
  "language_info": {
   "codemirror_mode": {
    "name": "ipython",
    "version": 3
   },
   "file_extension": ".py",
   "mimetype": "text/x-python",
   "name": "python",
   "nbconvert_exporter": "python",
   "pygments_lexer": "ipython3",
   "version": "3.8.5"
  }
 },
 "nbformat": 4,
 "nbformat_minor": 4
}
