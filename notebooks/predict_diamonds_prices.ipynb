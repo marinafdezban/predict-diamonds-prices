{
 "cells": [
  {
   "cell_type": "markdown",
   "metadata": {},
   "source": [
    "# **import libraries**"
   ]
  },
  {
   "cell_type": "code",
   "execution_count": null,
   "metadata": {
    "id": "suQj4G_7y70h"
   },
   "outputs": [],
   "source": [
    "from sklearn.pipeline import Pipeline\n",
    "from sklearn.compose import ColumnTransformer\n",
    "from sklearn.impute import SimpleImputer\n",
    "from sklearn.preprocessing import StandardScaler\n",
    "from sklearn.preprocessing import OneHotEncoder, OrdinalEncoder\n",
    "import numpy as np # linear algebra\n",
    "import pandas as pd\n",
    "from sklearn.preprocessing import StandardScaler\n",
    "from sklearn.preprocessing import OneHotEncoder, OrdinalEncoder\n",
    "from sklearn import datasets, linear_model\n",
    "from sklearn.metrics import mean_squared_error\n",
    "from sklearn.ensemble import RandomForestRegressor\n",
    "from lightgbm import LGBMRegressor"
   ]
  },
  {
   "cell_type": "markdown",
   "metadata": {},
   "source": [
    "# **1. data loading**"
   ]
  },
  {
   "cell_type": "code",
   "execution_count": null,
   "metadata": {
    "id": "3iRBF5qzzUbA"
   },
   "outputs": [],
   "source": [
    "train = pd.read_csv('../predict_diamonds/diamonds_train.csv')"
   ]
  },
  {
   "cell_type": "code",
   "execution_count": null,
   "metadata": {
    "id": "kKlzCBCq0w1S"
   },
   "outputs": [],
   "source": [
    "predict = pd.read_csv('../predict_diamonds/diamonds_test.csv')"
   ]
  },
  {
   "cell_type": "markdown",
   "metadata": {},
   "source": [
    "# **2. modeling**"
   ]
  },
  {
   "cell_type": "code",
   "execution_count": null,
   "metadata": {
    "id": "ydz8lKza1Ki0"
   },
   "outputs": [],
   "source": [
    "TARGET = 'price'\n",
    "\n",
    "CAT_FEATURES = ['cut', 'color', 'clarity']\n",
    "NUM_FEATURES = ['carat', 'depth', 'table', 'x', 'y', 'z']\n",
    "\n",
    "for categorical_feature in CAT_FEATURES:\n",
    "    \n",
    "    train[categorical_feature] = train[categorical_feature].astype('category') \n",
    "    predict[categorical_feature] = predict[categorical_feature].astype('category')"
   ]
  },
  {
   "cell_type": "code",
   "execution_count": null,
   "metadata": {
    "id": "CnmFYRvoWLS3"
   },
   "outputs": [],
   "source": [
    "FEATS = NUM_FEATURES + CAT_FEATURES"
   ]
  },
  {
   "cell_type": "code",
   "execution_count": null,
   "metadata": {
    "id": "mM9BBywWUTz4"
   },
   "outputs": [],
   "source": [
    "numeric_transformer = \\\n",
    "Pipeline(steps=[('imputer', SimpleImputer(strategy='mean')), \n",
    "                ('scaler', StandardScaler())])"
   ]
  },
  {
   "cell_type": "code",
   "execution_count": null,
   "metadata": {
    "id": "h2TSWd0b1NYl"
   },
   "outputs": [],
   "source": [
    "categorical_transformer = \\\n",
    "Pipeline(steps=[('imputer', SimpleImputer(strategy='constant', fill_value='missing')),\n",
    "                ('encoder', OneHotEncoder(handle_unknown='ignore'))])"
   ]
  },
  {
   "cell_type": "code",
   "execution_count": null,
   "metadata": {
    "id": "_eMfQDLGU_7F"
   },
   "outputs": [],
   "source": [
    "preprocessor = \\\n",
    "ColumnTransformer(transformers=[('num', numeric_transformer, NUM_FEATURES),\n",
    "                                ('cat', categorical_transformer, CAT_FEATURES)])"
   ]
  },
  {
   "cell_type": "code",
   "execution_count": null,
   "metadata": {
    "colab": {
     "base_uri": "https://localhost:8080/"
    },
    "id": "Sq_6WWKaVJrT",
    "outputId": "13e3ea29-325d-4821-bedf-2157ec4e994a"
   },
   "outputs": [
    {
     "data": {
      "text/plain": [
       "ColumnTransformer(n_jobs=None, remainder='drop', sparse_threshold=0.3,\n",
       "                  transformer_weights=None,\n",
       "                  transformers=[('num',\n",
       "                                 Pipeline(memory=None,\n",
       "                                          steps=[('imputer',\n",
       "                                                  SimpleImputer(add_indicator=False,\n",
       "                                                                copy=True,\n",
       "                                                                fill_value=None,\n",
       "                                                                missing_values=nan,\n",
       "                                                                strategy='mean',\n",
       "                                                                verbose=0)),\n",
       "                                                 ('scaler',\n",
       "                                                  StandardScaler(copy=True,\n",
       "                                                                 with_mean=True,\n",
       "                                                                 with_std=True))],\n",
       "                                          verbose=False),\n",
       "                                 ['carat'...'y', 'z']),\n",
       "                                ('cat',\n",
       "                                 Pipeline(memory=None,\n",
       "                                          steps=[('imputer',\n",
       "                                                  SimpleImputer(add_indicator=False,\n",
       "                                                                copy=True,\n",
       "                                                                fill_value='missing',\n",
       "                                                                missing_values=nan,\n",
       "                                                                strategy='constant',\n",
       "                                                                verbose=0)),\n",
       "                                                 ('encoder',\n",
       "                                                  OneHotEncoder(categories='auto',\n",
       "                                                                drop=None,\n",
       "                                                                dtype=<class 'numpy.float64'>,\n",
       "                                                                handle_unknown='ignore',\n",
       "                                                                sparse=True))],\n",
       "                                          verbose=False),\n",
       "                                 ['cut', 'color', 'clarity'])],\n",
       "                  verbose=False)"
      ]
     },
     "execution_count": 136,
     "metadata": {
      "tags": []
     },
     "output_type": "execute_result"
    }
   ],
   "source": [
    "preprocessor"
   ]
  },
  {
   "cell_type": "code",
   "execution_count": null,
   "metadata": {
    "id": "HrlOKZjt1Uif"
   },
   "outputs": [],
   "source": [
    "from sklearn.linear_model import LinearRegression\n",
    "from sklearn.ensemble import RandomForestRegressor"
   ]
  },
  {
   "cell_type": "code",
   "execution_count": null,
   "metadata": {
    "id": "1wZKkJZCVu5f"
   },
   "outputs": [],
   "source": [
    "model= Pipeline(steps=[('preprocessor', preprocessor),\n",
    "                       ('regressor', LGBMRegressor(boosting_type='gbdt', max_depth=8, num_leaves=70))])"
   ]
  },
  {
   "cell_type": "code",
   "execution_count": null,
   "metadata": {
    "id": "WpcN1DcsV16Q"
   },
   "outputs": [],
   "source": [
    "model.fit(train[FEATS], train[TARGET]);"
   ]
  },
  {
   "cell_type": "code",
   "execution_count": null,
   "metadata": {
    "id": "QohDw_zx1fdE"
   },
   "outputs": [],
   "source": [
    "from sklearn.model_selection import cross_val_score"
   ]
  },
  {
   "cell_type": "code",
   "execution_count": null,
   "metadata": {
    "id": "rFAHUmPdWf46"
   },
   "outputs": [],
   "source": [
    "scores = cross_val_score(model, \n",
    "                         train[FEATS], \n",
    "                         train[TARGET], \n",
    "                         scoring='neg_root_mean_squared_error', \n",
    "                         cv=5, n_jobs=-1)"
   ]
  },
  {
   "cell_type": "code",
   "execution_count": null,
   "metadata": {
    "colab": {
     "base_uri": "https://localhost:8080/"
    },
    "id": "nMcieeGKWqSG",
    "outputId": "0e88a4c1-acbe-4b36-e688-66afae4905af"
   },
   "outputs": [
    {
     "data": {
      "text/plain": [
       "548.9562739855298"
      ]
     },
     "execution_count": 244,
     "metadata": {
      "tags": []
     },
     "output_type": "execute_result"
    }
   ],
   "source": [
    "import numpy as np\n",
    "np.mean(-scores)"
   ]
  },
  {
   "cell_type": "code",
   "execution_count": null,
   "metadata": {
    "id": "F11LM5Sax_Mw"
   },
   "outputs": [],
   "source": [
    "?LGBMRegressor()"
   ]
  },
  {
   "cell_type": "code",
   "execution_count": null,
   "metadata": {
    "id": "uAnjc-xM1ma2"
   },
   "outputs": [],
   "source": [
    "from sklearn.model_selection import RandomizedSearchCV"
   ]
  },
  {
   "cell_type": "code",
   "execution_count": null,
   "metadata": {
    "colab": {
     "base_uri": "https://localhost:8080/"
    },
    "id": "3mjyB8vq2917",
    "outputId": "49a46986-2101-47c6-a805-d6d1604c9cea"
   },
   "outputs": [
    {
     "name": "stdout",
     "output_type": "stream",
     "text": [
      "Fitting 5 folds for each of 32 candidates, totalling 160 fits\n"
     ]
    },
    {
     "name": "stderr",
     "output_type": "stream",
     "text": [
      "[Parallel(n_jobs=-1)]: Using backend LokyBackend with 2 concurrent workers.\n",
      "[Parallel(n_jobs=-1)]: Done   1 tasks      | elapsed:    1.8s\n",
      "[Parallel(n_jobs=-1)]: Done   4 tasks      | elapsed:    3.5s\n",
      "[Parallel(n_jobs=-1)]: Done   9 tasks      | elapsed:    5.2s\n",
      "[Parallel(n_jobs=-1)]: Done  14 tasks      | elapsed:    7.8s\n",
      "[Parallel(n_jobs=-1)]: Done  21 tasks      | elapsed:   11.6s\n",
      "[Parallel(n_jobs=-1)]: Done  28 tasks      | elapsed:   15.4s\n",
      "[Parallel(n_jobs=-1)]: Done  37 tasks      | elapsed:   17.9s\n",
      "[Parallel(n_jobs=-1)]: Done  46 tasks      | elapsed:   29.3s\n",
      "[Parallel(n_jobs=-1)]: Done  57 tasks      | elapsed:   44.2s\n",
      "[Parallel(n_jobs=-1)]: Done  68 tasks      | elapsed:   52.6s\n",
      "[Parallel(n_jobs=-1)]: Done  81 tasks      | elapsed:  1.0min\n",
      "[Parallel(n_jobs=-1)]: Done  94 tasks      | elapsed:  1.1min\n",
      "[Parallel(n_jobs=-1)]: Done 109 tasks      | elapsed:  1.3min\n",
      "[Parallel(n_jobs=-1)]: Done 124 tasks      | elapsed:  1.4min\n",
      "[Parallel(n_jobs=-1)]: Done 141 tasks      | elapsed:  1.5min\n",
      "[Parallel(n_jobs=-1)]: Done 160 out of 160 | elapsed:  1.5min finished\n"
     ]
    },
    {
     "data": {
      "text/plain": [
       "RandomizedSearchCV(cv=5, error_score=nan,\n",
       "                   estimator=Pipeline(memory=None,\n",
       "                                      steps=[('preprocessor',\n",
       "                                              ColumnTransformer(n_jobs=None,\n",
       "                                                                remainder='drop',\n",
       "                                                                sparse_threshold=0.3,\n",
       "                                                                transformer_weights=None,\n",
       "                                                                transformers=[('num',\n",
       "                                                                               Pipeline(memory=None,\n",
       "                                                                                        steps=[('imputer',\n",
       "                                                                                                SimpleImputer(add_indicator=False,\n",
       "                                                                                                              copy=True,\n",
       "                                                                                                              fill_value=None,\n",
       "                                                                                                              missing_values=nan,\n",
       "                                                                                                              strategy='mean',\n",
       "                                                                                                              verbose=...\n",
       "                                                            subsample_freq=0))],\n",
       "                                      verbose=False),\n",
       "                   iid='deprecated', n_iter=32, n_jobs=-1,\n",
       "                   param_distributions={'preprocessor__num__imputer__strategy': ['mean',\n",
       "                                                                                 'median'],\n",
       "                                        'regressor__max_depth': [2, 4, 8, 16],\n",
       "                                        'regressor__n_estimators': [16, 32, 64,\n",
       "                                                                    128, 256,\n",
       "                                                                    512]},\n",
       "                   pre_dispatch='2*n_jobs', random_state=None, refit=True,\n",
       "                   return_train_score=False,\n",
       "                   scoring='neg_root_mean_squared_error', verbose=10)"
      ]
     },
     "execution_count": 246,
     "metadata": {
      "tags": []
     },
     "output_type": "execute_result"
    }
   ],
   "source": [
    "param_grid = {\n",
    "    'preprocessor__num__imputer__strategy': ['mean', 'median'],\n",
    "    'regressor__n_estimators': [16, 32, 64, 128, 256, 512],\n",
    "    'regressor__max_depth': [2, 4, 8, 16],\n",
    "}\n",
    "\n",
    "grid_search = RandomizedSearchCV(model, \n",
    "                                 param_grid, \n",
    "                                 cv=5, \n",
    "                                 verbose=10, \n",
    "                                 scoring='neg_root_mean_squared_error', \n",
    "                                 n_jobs=-1,\n",
    "                                 n_iter=32)\n",
    "\n",
    "grid_search.fit(train[FEATS], train[TARGET])"
   ]
  },
  {
   "cell_type": "code",
   "execution_count": null,
   "metadata": {
    "colab": {
     "base_uri": "https://localhost:8080/"
    },
    "id": "vAALfKX83Brg",
    "outputId": "f0f4d899-ce34-4a54-be70-d17045f5d4ba"
   },
   "outputs": [
    {
     "data": {
      "text/plain": [
       "{'preprocessor__num__imputer__strategy': 'median',\n",
       " 'regressor__max_depth': 16,\n",
       " 'regressor__n_estimators': 128}"
      ]
     },
     "execution_count": 247,
     "metadata": {
      "tags": []
     },
     "output_type": "execute_result"
    }
   ],
   "source": [
    "grid_search.best_params_"
   ]
  },
  {
   "cell_type": "code",
   "execution_count": null,
   "metadata": {
    "colab": {
     "base_uri": "https://localhost:8080/"
    },
    "id": "o29eoczb3EHI",
    "outputId": "09c87c20-d49a-45d6-d613-3aff739a8879"
   },
   "outputs": [
    {
     "data": {
      "text/plain": [
       "-540.1485766454829"
      ]
     },
     "execution_count": 248,
     "metadata": {
      "tags": []
     },
     "output_type": "execute_result"
    }
   ],
   "source": [
    "grid_search.best_score_"
   ]
  },
  {
   "cell_type": "code",
   "execution_count": null,
   "metadata": {
    "id": "6L13rdQV3GLn"
   },
   "outputs": [],
   "source": [
    "y_pred = grid_search.predict(predict[FEATS])"
   ]
  },
  {
   "cell_type": "code",
   "execution_count": null,
   "metadata": {
    "id": "kH9xfu613H2s"
   },
   "outputs": [],
   "source": [
    "predictions = model.predict(predict[FEATS])"
   ]
  },
  {
   "cell_type": "markdown",
   "metadata": {},
   "source": [
    "# **3. submission**"
   ]
  },
  {
   "cell_type": "code",
   "execution_count": null,
   "metadata": {
    "id": "IYnEvKnj3JhX"
   },
   "outputs": [],
   "source": [
    "submission_df = pd.DataFrame({'id': predict['id'], 'price': y_pred})"
   ]
  },
  {
   "cell_type": "code",
   "execution_count": null,
   "metadata": {
    "id": "aZ-dMvgZX4MZ"
   },
   "outputs": [],
   "source": [
    "submission_df.to_csv('../predict_diamonds/diamonds_randomf.csv', index=False)"
   ]
  }
 ],
 "metadata": {
  "colab": {
   "name": "Copy of predict_diamonds_prices.ipynb",
   "provenance": []
  },
  "kernelspec": {
   "display_name": "Python 3",
   "language": "python",
   "name": "python3"
  },
  "language_info": {
   "codemirror_mode": {
    "name": "ipython",
    "version": 3
   },
   "file_extension": ".py",
   "mimetype": "text/x-python",
   "name": "python",
   "nbconvert_exporter": "python",
   "pygments_lexer": "ipython3",
   "version": "3.8.5"
  }
 },
 "nbformat": 4,
 "nbformat_minor": 4
}
