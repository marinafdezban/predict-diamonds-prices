{
  "nbformat": 4,
  "nbformat_minor": 0,
  "metadata": {
    "colab": {
      "name": "predict_diamonds_prices_lgb.ipynb",
      "provenance": [],
      "toc_visible": true
    },
    "kernelspec": {
      "name": "python3",
      "display_name": "Python 3"
    },
    "language_info": {
      "name": "python"
    }
  },
  "cells": [
    {
      "cell_type": "code",
      "metadata": {
        "id": "6O8SGqt25Ma_"
      },
      "source": [
        "from sklearn.pipeline import Pipeline\n",
        "from sklearn.compose import ColumnTransformer\n",
        "from sklearn.impute import SimpleImputer\n",
        "from sklearn.preprocessing import StandardScaler\n",
        "from sklearn.preprocessing import OneHotEncoder, OrdinalEncoder\n",
        "import numpy as np # linear algebra\n",
        "import pandas as pd\n",
        "from sklearn.preprocessing import StandardScaler\n",
        "from sklearn.preprocessing import OneHotEncoder, OrdinalEncoder\n",
        "from sklearn import datasets, linear_model\n",
        "from sklearn.metrics import mean_squared_error\n",
        "from sklearn.ensemble import RandomForestRegressor\n",
        "from lightgbm import LGBMRegressor\n",
        "from sklearn import preprocessing\n",
        "from sklearn.preprocessing import RobustScaler"
      ],
      "execution_count": null,
      "outputs": []
    },
    {
      "cell_type": "code",
      "metadata": {
        "id": "oazkgG8f5uY4"
      },
      "source": [
        "train = pd.read_csv('../predict_diamonds/diamonds_train.csv')"
      ],
      "execution_count": null,
      "outputs": []
    },
    {
      "cell_type": "code",
      "metadata": {
        "id": "GrjavgKY57KT"
      },
      "source": [
        "predict = pd.read_csv('../predict_diamonds/diamonds_test.csv')"
      ],
      "execution_count": null,
      "outputs": []
    },
    {
      "cell_type": "code",
      "metadata": {
        "id": "5mwX2oxu6n3j"
      },
      "source": [
        "TARGET = 'price'\n",
        "\n",
        "CAT_FEATURES = ['cut', 'color', 'clarity']\n",
        "NUM_FEATURES = ['carat', 'depth', 'table', 'x', 'y', 'z']\n",
        "\n",
        "for categorical_feature in CAT_FEATURES:\n",
        "    \n",
        "    train[categorical_feature] = train[categorical_feature].astype('category') \n",
        "    predict[categorical_feature] = predict[categorical_feature].astype('category')"
      ],
      "execution_count": null,
      "outputs": []
    },
    {
      "cell_type": "code",
      "metadata": {
        "id": "daYspKmk6taN"
      },
      "source": [
        "FEATS = NUM_FEATURES + CAT_FEATURES"
      ],
      "execution_count": null,
      "outputs": []
    },
    {
      "cell_type": "code",
      "metadata": {
        "id": "DnJH441a7VWh"
      },
      "source": [
        "numeric_transformer = \\\n",
        "Pipeline(steps=[('imputer', SimpleImputer(strategy='mean')), \n",
        "                ('scaler', RobustScaler())])"
      ],
      "execution_count": null,
      "outputs": []
    },
    {
      "cell_type": "code",
      "metadata": {
        "id": "CCPleX887eXS"
      },
      "source": [
        "categorical_transformer = \\\n",
        "Pipeline(steps=[('imputer', SimpleImputer(strategy='most_frequent', fill_value='missing')),\n",
        "                ('encoder', OrdinalEncoder())])"
      ],
      "execution_count": null,
      "outputs": []
    },
    {
      "cell_type": "code",
      "metadata": {
        "id": "732itaNK7zEo"
      },
      "source": [
        "preprocessor = \\\n",
        "ColumnTransformer(transformers=[('num', numeric_transformer, NUM_FEATURES),\n",
        "                                ('cat', categorical_transformer, CAT_FEATURES)])"
      ],
      "execution_count": null,
      "outputs": []
    },
    {
      "cell_type": "code",
      "metadata": {
        "id": "ejyQOV0371oF"
      },
      "source": [
        "from sklearn.linear_model import LinearRegression\n",
        "from sklearn.ensemble import RandomForestRegressor"
      ],
      "execution_count": null,
      "outputs": []
    },
    {
      "cell_type": "code",
      "metadata": {
        "id": "XM8Ix9kG8thw"
      },
      "source": [
        "model= Pipeline(steps=[('preprocessor', preprocessor),\n",
        "                       ('regressor', LGBMRegressor(boosting_type='gbdt', \n",
        "                                                   max_depth = 8, \n",
        "                                                   objective='regression',\n",
        "                                                   max_bin=200,\n",
        "                                                   feature_fraction_seed=7,\n",
        "                                                   min_data_in_leaf=2,\n",
        "                                                   n_estimators = 256))])"
      ],
      "execution_count": null,
      "outputs": []
    },
    {
      "cell_type": "code",
      "metadata": {
        "id": "duZf7fzq_NbI"
      },
      "source": [
        "model.fit(train[FEATS], train[TARGET]);"
      ],
      "execution_count": null,
      "outputs": []
    },
    {
      "cell_type": "code",
      "metadata": {
        "id": "JKq5M64P_Uiz"
      },
      "source": [
        "from sklearn.model_selection import cross_val_score"
      ],
      "execution_count": null,
      "outputs": []
    },
    {
      "cell_type": "code",
      "metadata": {
        "id": "weAodlAT_WX3"
      },
      "source": [
        "scores = cross_val_score(model, \n",
        "                         train[FEATS], \n",
        "                         train[TARGET], \n",
        "                         scoring='neg_root_mean_squared_error', \n",
        "                         cv=5, \n",
        "                         n_jobs=-1)"
      ],
      "execution_count": null,
      "outputs": []
    },
    {
      "cell_type": "code",
      "metadata": {
        "colab": {
          "base_uri": "https://localhost:8080/"
        },
        "id": "MKzRNO7o_ZsZ",
        "outputId": "071f417a-62eb-4d99-d54b-5264006d372f"
      },
      "source": [
        "import numpy as np\n",
        "np.mean(-scores)"
      ],
      "execution_count": null,
      "outputs": [
        {
          "output_type": "execute_result",
          "data": {
            "text/plain": [
              "531.5623528395769"
            ]
          },
          "metadata": {
            "tags": []
          },
          "execution_count": 166
        }
      ]
    },
    {
      "cell_type": "code",
      "metadata": {
        "id": "bjW7FkuV_dkx"
      },
      "source": [
        "from sklearn.model_selection import RandomizedSearchCV"
      ],
      "execution_count": null,
      "outputs": []
    },
    {
      "cell_type": "code",
      "metadata": {
        "colab": {
          "base_uri": "https://localhost:8080/"
        },
        "id": "_pfR2Q_cGXOF",
        "outputId": "d16c81fe-396b-4070-da26-23c24b105df8"
      },
      "source": [
        "param_grid = {\n",
        "    'preprocessor__num__imputer__strategy': ['mean', 'median'],\n",
        "    'regressor__n_estimators': [8, 16, 32, 64, 128, 256, 512],\n",
        "    'regressor__max_depth': [2, 4, 8, 16],\n",
        "}\n",
        "\n",
        "grid_search = RandomizedSearchCV(model, \n",
        "                                 param_grid, \n",
        "                                 cv=5, \n",
        "                                 verbose=10, \n",
        "                                 scoring='neg_root_mean_squared_error', \n",
        "                                 n_jobs=-1,\n",
        "                                 n_iter=32)\n",
        "\n",
        "grid_search.fit(train[FEATS], train[TARGET])"
      ],
      "execution_count": null,
      "outputs": [
        {
          "output_type": "stream",
          "text": [
            "Fitting 5 folds for each of 32 candidates, totalling 160 fits\n"
          ],
          "name": "stdout"
        },
        {
          "output_type": "stream",
          "text": [
            "[Parallel(n_jobs=-1)]: Using backend LokyBackend with 2 concurrent workers.\n",
            "[Parallel(n_jobs=-1)]: Done   1 tasks      | elapsed:    1.2s\n",
            "[Parallel(n_jobs=-1)]: Done   4 tasks      | elapsed:    2.5s\n",
            "[Parallel(n_jobs=-1)]: Done   9 tasks      | elapsed:    8.8s\n",
            "[Parallel(n_jobs=-1)]: Done  14 tasks      | elapsed:   11.0s\n",
            "[Parallel(n_jobs=-1)]: Done  21 tasks      | elapsed:   13.7s\n",
            "[Parallel(n_jobs=-1)]: Done  28 tasks      | elapsed:   17.7s\n",
            "[Parallel(n_jobs=-1)]: Done  37 tasks      | elapsed:   21.2s\n",
            "[Parallel(n_jobs=-1)]: Done  46 tasks      | elapsed:   24.5s\n",
            "[Parallel(n_jobs=-1)]: Done  57 tasks      | elapsed:   29.4s\n",
            "[Parallel(n_jobs=-1)]: Done  68 tasks      | elapsed:   36.6s\n",
            "[Parallel(n_jobs=-1)]: Done  81 tasks      | elapsed:   44.2s\n",
            "[Parallel(n_jobs=-1)]: Done  94 tasks      | elapsed:   50.7s\n",
            "[Parallel(n_jobs=-1)]: Done 109 tasks      | elapsed:   57.1s\n",
            "[Parallel(n_jobs=-1)]: Done 124 tasks      | elapsed:  1.1min\n",
            "[Parallel(n_jobs=-1)]: Done 141 tasks      | elapsed:  1.2min\n",
            "[Parallel(n_jobs=-1)]: Done 160 out of 160 | elapsed:  1.3min finished\n"
          ],
          "name": "stderr"
        },
        {
          "output_type": "execute_result",
          "data": {
            "text/plain": [
              "RandomizedSearchCV(cv=5, error_score=nan,\n",
              "                   estimator=Pipeline(memory=None,\n",
              "                                      steps=[('preprocessor',\n",
              "                                              ColumnTransformer(n_jobs=None,\n",
              "                                                                remainder='drop',\n",
              "                                                                sparse_threshold=0.3,\n",
              "                                                                transformer_weights=None,\n",
              "                                                                transformers=[('num',\n",
              "                                                                               Pipeline(memory=None,\n",
              "                                                                                        steps=[('imputer',\n",
              "                                                                                                SimpleImputer(add_indicator=False,\n",
              "                                                                                                              copy=True,\n",
              "                                                                                                              fill_value=None,\n",
              "                                                                                                              missing_values=nan,\n",
              "                                                                                                              strategy='mean',\n",
              "                                                                                                              verbose=...\n",
              "                                                            subsample_freq=0))],\n",
              "                                      verbose=False),\n",
              "                   iid='deprecated', n_iter=32, n_jobs=-1,\n",
              "                   param_distributions={'preprocessor__num__imputer__strategy': ['mean',\n",
              "                                                                                 'median'],\n",
              "                                        'regressor__max_depth': [2, 4, 8, 16],\n",
              "                                        'regressor__n_estimators': [8, 16, 32,\n",
              "                                                                    64, 128,\n",
              "                                                                    256, 512]},\n",
              "                   pre_dispatch='2*n_jobs', random_state=None, refit=True,\n",
              "                   return_train_score=False,\n",
              "                   scoring='neg_root_mean_squared_error', verbose=10)"
            ]
          },
          "metadata": {
            "tags": []
          },
          "execution_count": 168
        }
      ]
    },
    {
      "cell_type": "code",
      "metadata": {
        "colab": {
          "base_uri": "https://localhost:8080/"
        },
        "id": "-NEQjARTG199",
        "outputId": "64edb883-4dfc-4ad9-cb30-4bde3282a098"
      },
      "source": [
        "grid_search.best_params_"
      ],
      "execution_count": null,
      "outputs": [
        {
          "output_type": "execute_result",
          "data": {
            "text/plain": [
              "{'preprocessor__num__imputer__strategy': 'mean',\n",
              " 'regressor__max_depth': 8,\n",
              " 'regressor__n_estimators': 256}"
            ]
          },
          "metadata": {
            "tags": []
          },
          "execution_count": 169
        }
      ]
    },
    {
      "cell_type": "code",
      "metadata": {
        "colab": {
          "base_uri": "https://localhost:8080/"
        },
        "id": "86bFIGdhHUAo",
        "outputId": "7d7af43b-5a42-4ca0-f2ad-9e1ab292b1c7"
      },
      "source": [
        "grid_search.best_score_"
      ],
      "execution_count": null,
      "outputs": [
        {
          "output_type": "execute_result",
          "data": {
            "text/plain": [
              "-531.5623528395769"
            ]
          },
          "metadata": {
            "tags": []
          },
          "execution_count": 170
        }
      ]
    },
    {
      "cell_type": "code",
      "metadata": {
        "id": "gvA0ma37IOql"
      },
      "source": [
        "y_pred = grid_search.predict(predict[FEATS])"
      ],
      "execution_count": null,
      "outputs": []
    },
    {
      "cell_type": "code",
      "metadata": {
        "id": "P3ilAbxqIR03"
      },
      "source": [
        "predictions = model.predict(predict[FEATS])"
      ],
      "execution_count": null,
      "outputs": []
    },
    {
      "cell_type": "code",
      "metadata": {
        "id": "RTU0XVrBITtd"
      },
      "source": [
        "submission_df = pd.DataFrame({'id': predict['id'], 'price': y_pred})"
      ],
      "execution_count": null,
      "outputs": []
    },
    {
      "cell_type": "code",
      "metadata": {
        "id": "n-xLbWCrIVfm"
      },
      "source": [
        "submission_df.to_csv('../predict_diamonds/diamonds_lgb5.csv', index=False)"
      ],
      "execution_count": null,
      "outputs": []
    },
    {
      "cell_type": "code",
      "metadata": {
        "id": "dVnbeXZjIZBQ"
      },
      "source": [
        ""
      ],
      "execution_count": null,
      "outputs": []
    }
  ]
}